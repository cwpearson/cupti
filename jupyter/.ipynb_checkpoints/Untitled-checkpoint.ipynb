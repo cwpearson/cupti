{
 "cells": [
  {
   "cell_type": "code",
   "execution_count": 70,
   "metadata": {},
   "outputs": [],
   "source": [
    "import json\n",
    "import re\n",
    "import matplotlib.pyplot as plt\n",
    "import numpy as np\n",
    "import decimal\n",
    "import matplotlib.ticker as ticker\n",
    "\n",
    "\n",
    "D = decimal.Decimal\n",
    "\n",
    "with open('sampleInput.txt', 'r') as myfile:\n",
    "    data=myfile.read().replace('\\n', '')\n",
    "m = re.findall('\\{.[^}]*}', data)\n",
    "\n",
    "# with open('sampleInput.txt') as data_file:    \n",
    "#     data = json.load(data_file)"
   ]
  },
  {
   "cell_type": "code",
   "execution_count": 82,
   "metadata": {},
   "outputs": [],
   "source": [
    "eventsAlreadySeen = []\n",
    "jsonObjects = []\n",
    "for entry in m:\n",
    "    jsonObjects.append(json.loads(entry))\n",
    "    \n",
    "beginList = []\n",
    "endList = []\n",
    "correlationIds = []\n",
    "\n",
    "for jsonObject in jsonObjects:\n",
    "    if (jsonObject['correlationId'] not in eventsAlreadySeen):\n",
    "        eventsAlreadySeen.append(jsonObject['correlationId'])\n",
    "        beginList.append(float(jsonObject['startTime'])/(10**9))\n",
    "        endList.append(float(jsonObject['endTime'])/(10**9))\n",
    "        correlationIds.append(jsonObject['functionName'])\n",
    "        "
   ]
  },
  {
   "cell_type": "code",
   "execution_count": 83,
   "metadata": {},
   "outputs": [
    {
     "name": "stdout",
     "output_type": "stream",
     "text": [
      "[1508411722.9399061, 1508411722.943729, 1508411722.9464064, 1508411722.998903, 1508411723.0508919]\n",
      "[1508411722.9421308, 1508411722.9447286, 1508411722.996093, 1508411723.0484004, 1508411723.0536463]\n"
     ]
    },
    {
     "data": {
      "image/png": "[encoded data removed]",
      "text/plain": [
       "<matplotlib.figure.Figure at 0x7f343cd5f0d0>"
      ]
     },
     "metadata": {},
     "output_type": "display_data"
    }
   ],
   "source": [
    "begin = np.array(beginList)\n",
    "end =   np.array(endList)\n",
    "\n",
    "print beginList\n",
    "print endList\n",
    "\n",
    "event = [\"Event {}\".format(i) for i in correlationIds]\n",
    "\n",
    "plt.barh(range(len(begin)),  end-begin, left=begin)\n",
    "\n",
    "plt.yticks(range(len(begin)), event)\n",
    "plt.show()"
   ]
  },
  {
   "cell_type": "code",
   "execution_count": null,
   "metadata": {},
   "outputs": [],
   "source": []
  },
  {
   "cell_type": "code",
   "execution_count": null,
   "metadata": {},
   "outputs": [],
   "source": []
  }
 ],
 "metadata": {
  "kernelspec": {
   "display_name": "Python 2",
   "language": "python",
   "name": "python2"
  },
  "language_info": {
   "codemirror_mode": {
    "name": "ipython",
    "version": 2
   },
   "file_extension": ".py",
   "mimetype": "text/x-python",
   "name": "python",
   "nbconvert_exporter": "python",
   "pygments_lexer": "ipython2",
   "version": "2.7.12"
  }
 },
 "nbformat": 4,
 "nbformat_minor": 2
}
